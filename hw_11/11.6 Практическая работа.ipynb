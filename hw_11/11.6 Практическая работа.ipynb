{
  "cells": [
    {
      "cell_type": "markdown",
      "id": "194ee24b-50d1-4175-b37e-2e3f7e762269",
      "metadata": {
        "id": "194ee24b-50d1-4175-b37e-2e3f7e762269"
      },
      "source": [
        "# Чтение файлов в Python и командной строке. Практическая работа\n",
        "\n",
        "### Цели практической работы\n",
        "\n",
        "1. Научиться считывать информацию из файлов и совершать над ней операции с помощью кода на Python и командной строки.\n",
        "2. Закрепить навыки стыковки команд в конвейеры и установки внешних пакетов с помощью пакетного менеджера pip.\n",
        "\n",
        "### Что входит в практическую работу\n",
        "\n",
        "1. Работа с файлами в командной строке.\n",
        "2. Работа с файлами в Python 1.\n",
        "3. Работа с файлами в Python 2.\n",
        "4. Импортирование модулей.\n",
        "5. Установка внешних модулей через pip.\n",
        "6. Бонусное задание.\n",
        "\n",
        "### Что оценивается\n",
        "\n",
        "- Выполнены пять обязательных заданий, в каждом из них:\n",
        "- программа выполняет все описанные в задании действия;\n",
        "- результаты вычислений и применённых операций корректны;\n",
        "- стилизация кода соответствует рекомендациям [PEP 8](https://pythonworld.ru/osnovy/pep-8-rukovodstvo-po-napisaniyu-koda-na-python.html).\n",
        "\n",
        "### Как отправить работу на проверку\n",
        "\n",
        "Все задания собраны в один Jupyter Notebook. Выполните их, сохраните изменения при помощи опции Save and Checkpoint из вкладки меню File или кнопки Save and Checkpoint на панели инструментов. Отправьте итоговый файл Jupyter Notebook в формате IPYNB или ссылку на него через форму для сдачи практической работы.\n",
        "\n",
        "---\n"
      ]
    },
    {
      "cell_type": "markdown",
      "id": "a44f6df4",
      "metadata": {
        "id": "a44f6df4"
      },
      "source": [
        "## Задание 1. Работа с файлами в командной строке\n",
        "\n",
        "Ранее вы считали количество всех слов в рассказе А. П. Чехова «Анна на шее». Теперь необходимо определить, сколько раз каждое слово встречается в тексте.\n",
        "\n",
        "Вы уже знаете команды sort и uniq, умеете с их помощью считать количество уникальных строк в построчном файле. В результате у вас должен был получиться такой конвейер команд: `cat anna_words.txt | sort | uniq | wc -l`.\n",
        "\n",
        "Команда cat перенаправляет слова из файла в команду sort, которая сортирует слова и передаёт упорядоченный список в команду uniq. Последняя удаляет дубликаты и направляет список уникальных слов в команду wc −l, которая их считает.\n",
        "\n",
        "### Что нужно сделать\n",
        "\n",
        "Посчитайте количество уникальных слов и определите частоту встречаемости каждого слова. Информацию в виде `частота слово` сохраните в текстовый файл. Для этого:\n",
        "\n",
        "1. Измените конвейер команд так, чтобы он выводил слова и их частоту встречаемости на экран.\n",
        "2. Перенаправьте вывод конвейера в текстовый файл `words_freq.txt`.\n",
        "\n",
        "Если всё сделаете правильно, то получится текстовый файл `words_freq.txt`, в котором будут слова и их частота в виде:\n",
        "\n",
        "```\n",
        "...\n",
        "   1 по-прежнему\n",
        "   2 по-французски\n",
        "  40 аня\n",
        "   6 бал\n",
        "   1 бог\n",
        "   2 ваш\n",
        "   2 вид\n",
        "...\n",
        "```\n",
        "\n",
        "3. Скопируйте конвейер команд в ячейку, которая расположена непосредственно под этой.\n",
        "\n",
        "### Подсказки\n",
        "\n",
        "1. Ознакомьтесь с документацией команды uniq, обратите внимание на её ключ `-с`. Официальную документацию можно почитать прямо в командной строке: для этого выполните команду `man uniq`. Команда `man` (от англ. manual) выводит справку для команды, которая передаётся в man как аргумент. Если читать текст в терминале непривычно, то можете поискать информацию в интернете.\n",
        "\n",
        "2. Перенаправить вывод команды в bash можно с помощью символа `>`. О том, как это сделать, читайте в интернете. Например, в статье [**«Перенаправление ввода вывода Linux»**](https://losst.ru/perenapravlenie-vvoda-vyvoda-linux).\n"
      ]
    },
    {
      "cell_type": "markdown",
      "id": "ac416392",
      "metadata": {
        "id": "ac416392"
      },
      "source": [
        "### Вставьте конвейер команд, который у вас получился\n"
      ]
    },
    {
      "cell_type": "code",
      "execution_count": 3,
      "id": "b9b13546-4933-4e8c-b0a7-62ce13863320",
      "metadata": {
        "id": "b9b13546-4933-4e8c-b0a7-62ce13863320",
        "outputId": "ce4e0dfb-e91d-4337-984a-5d9811bb449b"
      },
      "outputs": [
        {
          "name": "stdout",
          "output_type": "stream",
          "text": [
            "'11.6 Практическая работа.ipynb'\n"
          ]
        }
      ],
      "source": [
        "!ls"
      ]
    },
    {
      "cell_type": "code",
      "execution_count": 81,
      "id": "35aa50c3-7d4e-4667-8157-da4ad8761cdd",
      "metadata": {
        "id": "35aa50c3-7d4e-4667-8157-da4ad8761cdd"
      },
      "outputs": [
        {
          "name": "stderr",
          "output_type": "stream",
          "text": [
            "11919.68s - pydevd: Sending message related to process being replaced timed-out after 5 seconds\n"
          ]
        }
      ],
      "source": [
        "##\n",
        "!cat anna_words.txt | sort | uniq -c > words_freq.txt\n",
        "##"
      ]
    },
    {
      "cell_type": "markdown",
      "id": "3952c1a6",
      "metadata": {
        "id": "3952c1a6"
      },
      "source": [
        "---\n",
        "\n",
        "## Задание 2. Работа с файлами в Python 1\n",
        "\n",
        "### Что нужно сделать\n",
        "\n",
        "В рассказе А. П. Чехова «Анна на шее» найдите десять слов, которые встречаются чаще всего.\n",
        "\n",
        "1. Напишите код на Python, который читает файл `word_freq.txt` по строкам, преобразует каждую из них в кортеж `(частота, слово)` и складывает полученные кортежи в список.\n",
        "2. Отсортируйте список по частотам, выведите на экран десять самых популярных слов и их частоты.\n",
        "\n",
        "### Подсказки\n",
        "\n",
        "1. Обратите внимание, что строки в файле содержат «лишние» символы: пробелы в начале и символ перевода строки в конце. Работать будет удобнее, если предварительно удалить их. Сделать это можно с помощью метода `strip`. Ознакомьтесь с ним подробнее в [**официальной документации**](https://docs.python.org/3/library/stdtypes.html?highlight=strip#str.strip).\n",
        "\n",
        "2. Сейчас частота и слово — это одна строка, в которой они разделены пробелом. Их можно разделить с помощью метода [**`split`**](https://docs.python.org/3/library/stdtypes.html?highlight=split#str.split).\n",
        "\n",
        "3. Для сортировки в Python есть функция `sorted`. Она принимает на вход итерируемый объект, сравнивает его элементы между собой и возвращает итерируемый объект, который отсортирован. По умолчанию функция размещает элементы в порядке возрастания. Например, `sorted([2, 4, 1, 0])` вернёт `[0, 1, 2, 4]`. Подробнее про работу функции можно почитать в [**официальной документации**](https://docs.python.org/3/library/functions.html?highlight=sorted#sorted)\n"
      ]
    },
    {
      "cell_type": "code",
      "execution_count": 28,
      "id": "c98e4d0b",
      "metadata": {
        "id": "c98e4d0b"
      },
      "outputs": [
        {
          "name": "stdout",
          "output_type": "stream",
          "text": [
            "[(40, 'аня'), (28, 'свой'), (19, 'говорить'), (17, 'это'), (17, 'сказать'), (17, 'модест'), (17, 'который'), (17, 'алексеич'), (16, 'человек'), (16, 'рука')]\n"
          ]
        }
      ],
      "source": [
        "def get_count_words(file_name):\n",
        "    words_list = []\n",
        "    with open(file_name, \"r\") as file:\n",
        "        for line in file:\n",
        "            count_and_word = line.strip().strip(\"\\n\").split(\" \")\n",
        "            words_list.append((int(count_and_word[0]), count_and_word[1]))\n",
        "    print(sorted(words_list, reverse=True)[:10])\n",
        "\n",
        "\n",
        "get_count_words(\"words_freq.txt\")"
      ]
    },
    {
      "cell_type": "markdown",
      "id": "8639569c",
      "metadata": {
        "id": "8639569c"
      },
      "source": [
        "---\n",
        "\n",
        "## Задание 3. Работа с файлами в Python 2\n",
        "\n",
        "### Что нужно сделать\n",
        "\n",
        "Найдите букву, с которой чаще всего начинаются слова в рассказе А. П. Чехова «Анна на шее».\n",
        "\n",
        "1. Используйте файл с частотами слов `words_freq.txt`.\n",
        "2. Напишите код в Python, который выводит на экран самую популярную первую букву и количество слов на неё.\n",
        "\n",
        "### Подсказки\n",
        "\n",
        "Скорее всего, вы будете искать в словаре ключ с максимальным значением. Чтобы упростить работу, отсортируйте словарь. Сортировать словарь по значениям сложнее, чем список объектов, которые можно сравнивать непосредственно. Обратите внимание на параметр key функции [**sorted**](https://docs.python.org/3/library/functions.html?highlight=sorted#sorted).\n"
      ]
    },
    {
      "cell_type": "code",
      "execution_count": 49,
      "id": "6da9050c",
      "metadata": {
        "id": "6da9050c"
      },
      "outputs": [
        {
          "name": "stdout",
          "output_type": "stream",
          "text": [
            "п - 318\n"
          ]
        }
      ],
      "source": [
        "##\n",
        "## Вставьте свой код сюда\n",
        "def get_count_word(file_name):\n",
        "    count_letter = {}\n",
        "\n",
        "    with open(file_name, 'r') as file:\n",
        "        for line in file:\n",
        "            count_and_word = line.strip().strip('\\n').strip(',').split(' ')\n",
        "            letter = count_and_word[1][:1]\n",
        "            if letter.isalpha():\n",
        "                if letter in count_letter:\n",
        "                    count_letter[letter] += int(count_and_word[0])\n",
        "                else:\n",
        "                    count_letter[letter] = int(count_and_word[0])\n",
        "\n",
        "    return sorted(count_letter.items(), key=lambda x: x[1], reverse=True)[:1]\n",
        "\n",
        "def get_info():\n",
        "    file_name = 'words_freq.txt'\n",
        "    letter_count = get_count_word(file_name)\n",
        "    print(f\"{letter_count[0][0]} - {letter_count[0][1]}\")\n",
        "\n",
        "get_info()"
      ]
    },
    {
      "cell_type": "markdown",
      "id": "b94a18e9",
      "metadata": {
        "id": "b94a18e9"
      },
      "source": [
        "---\n",
        "\n",
        "## Задание 4. Импортирование модулей\n",
        "\n",
        "###Что нужно сделать\n",
        "Напишите функцию `circ_sqrt`. Она должна принимать один параметр `r` типа `float` и возвращать квадратный корень из длины окружности радиуса `r`.\n",
        "\n",
        "### Подсказки\n",
        "\n",
        "- Используйте функции встроенного модуля math.\n",
        "- В работе функции учтите область определения квадратного корня.\n"
      ]
    },
    {
      "cell_type": "code",
      "execution_count": 79,
      "id": "f9ddadb6",
      "metadata": {
        "id": "f9ddadb6"
      },
      "outputs": [
        {
          "data": {
            "text/plain": [
              "3.0699801238394655"
            ]
          },
          "execution_count": 79,
          "metadata": {},
          "output_type": "execute_result"
        }
      ],
      "source": [
        "import math\n",
        "\n",
        "\n",
        "def circ_sqrt(r):\n",
        "    if r < 0:\n",
        "        print('Радиус должен быть положительным. Попробуйте снова')\n",
        "        return\n",
        "    c = 2 * math.pi * r\n",
        "    return math.sqrt(c)\n",
        "    \n",
        "    \n",
        "circ_sqrt(1.5)\n"
      ]
    },
    {
      "cell_type": "code",
      "execution_count": 80,
      "metadata": {},
      "outputs": [
        {
          "name": "stdout",
          "output_type": "stream",
          "text": [
            "Радиус должен быть положительным. Попробуйте снова\n"
          ]
        }
      ],
      "source": [
        "circ_sqrt(-1.5)"
      ]
    },
    {
      "cell_type": "markdown",
      "id": "73df457b",
      "metadata": {
        "id": "73df457b"
      },
      "source": [
        "---\n",
        "\n",
        "## Задание 5. Установка внешних модулей через pip\n",
        "\n",
        "### Что нужно сделать\n",
        "\n",
        "Установите пакеты из PyPi с помощью пакетного менеджера pip и используйте их в коде.\n",
        "\n",
        "1. Установите пакет `cowsay`.\n",
        "2. Установите в систему пакет `wikipedia` — Python API для очень популярной онлайн-энциклопедии.\n",
        "3. Напишите функцию `random_article`, которая выводит на экран очень умную корову. Корова должна «рассказывать» краткое содержание случайной статьи из «Википедии» на английском языке.\n",
        "\n",
        "### Подсказки\n",
        "\n",
        "Вам понадобятся следующие функции пакета `wikipedia`:\n",
        "\n",
        "- [**wikipedia.random**](https://wikipedia.readthedocs.io/en/latest/code.html#wikipedia.random)\n",
        "- [**wikipedia.summary**](https://wikipedia.readthedocs.io/en/latest/code.html#wikipedia.summary)\n"
      ]
    },
    {
      "cell_type": "code",
      "execution_count": 60,
      "metadata": {},
      "outputs": [
        {
          "name": "stdout",
          "output_type": "stream",
          "text": [
            "  _________________________________________________\n",
            " /                                                 \\\n",
            "| The theorem of the envelopment of societies for r |\n",
            "| esource-dependent populations, also called the Br |\n",
            "| uss–Duerinckx theorem, is a mathematical result o |\n",
            "| n the behavior of populations that choose their s |\n",
            "| ociety form according to only two hypotheses that |\n",
            "|  they see as most \"natural\":                      |\n",
            "| Hypothesis 1 (H1): Individuals want to survive an |\n",
            "| d see a future for their descendants.             |\n",
            "| Hypothesis 2 (H2): The average individual prefers |\n",
            "|  a higher standard of living to a lower one.H1 is |\n",
            "|  supposed to precede H2 in the case of incompatib |\n",
            "| ility with H2.                                    |\n",
            "| Here populations with a society structure are mod |\n",
            "| eled by so-called resource-dependent branching pr |\n",
            "| ocesses (RDBPs).                                  |\n",
            "| The objective of RDBPs is to model different soci |\n",
            "| ety structures and to compare the advantages and  |\n",
            "| disadvantages of different societies, with the fo |\n",
            "| cus being on human societies. A RDBP is a discret |\n",
            "| e time branching process (BP) in which individual |\n",
            "| s are supposed to have to work to be able to live |\n",
            "|  and to reproduce. The population decides on a cu |\n",
            "| rrent society form by a policy, that is a prescri |\n",
            "| ption of rules how available resources are to be  |\n",
            "| distributed among the individuals. Policies may c |\n",
            "| hange over the generations by the interaction of  |\n",
            "| individuals.                                      |\n",
            " \\                                                 /\n",
            "  =================================================\n",
            "                                                 \\\n",
            "                                                  \\\n",
            "                                                    ^__^\n",
            "                                                    (oo)\\_______\n",
            "                                                    (__)\\       )\\/\\\n",
            "                                                        ||----w |\n",
            "                                                        ||     ||\n"
          ]
        }
      ],
      "source": [
        "import cowsay\n",
        "from wikipedia import random, summary\n",
        "\n",
        "def random_article():\n",
        "    random_article = random()\n",
        "    article_summary = summary(random_article)\n",
        "    cowsay.cow(article_summary)\n",
        "\n",
        "random_article()\n",
        "\n"
      ]
    },
    {
      "cell_type": "markdown",
      "id": "af263b7d",
      "metadata": {
        "id": "af263b7d"
      },
      "source": [
        "---\n",
        "\n",
        "## Задание 6. Бонусное\n",
        "\n",
        "### Что нужно сделать\n",
        "\n",
        "Выясните, как слова в рассказе «Анна на шее» распределяются по длине.\n",
        "\n",
        "1. Посчитайте, сколько слов длины 1, 2 и так далее в файле anna_words.txt.\n",
        "\n",
        "2. Выведите на экран информацию в формате `длина количество_слов`, отсортируйте её по возрастанию длины.\n",
        "\n",
        "3. Перенесите вывод программы в Excel или Google Таблицы и постройте столбчатую диаграмму.\n",
        "\n",
        "4. Сравните ваш график с [распределением русских слов по длине](http://nskhuman.ru/unislov/statist.php?nstat=21). В гистограмме по ссылке больше данных, поэтому она лучше показывает соотношение длины слов и их количества в русском языке.\n",
        "\n",
        "### Советы и рекомендации\n",
        "\n",
        "Вероятнее всего, вы снова будете использовать словарь. Ключами в нём будет длина слов, а значениями — количество слов этой длины. Обратите внимание, что словарь нужно сортировать по ключам, а не по значениям, как вы делали ранее.\n"
      ]
    },
    {
      "cell_type": "code",
      "execution_count": 71,
      "id": "31cd934a",
      "metadata": {
        "id": "31cd934a"
      },
      "outputs": [
        {
          "name": "stdout",
          "output_type": "stream",
          "text": [
            "1 - 4\n",
            "2 - 8\n",
            "3 - 125\n",
            "4 - 299\n",
            "5 - 283\n",
            "6 - 324\n",
            "7 - 398\n",
            "8 - 311\n",
            "9 - 179\n",
            "10 - 119\n",
            "11 - 109\n",
            "12 - 45\n",
            "13 - 19\n",
            "14 - 11\n",
            "15 - 7\n",
            "16 - 1\n",
            "17 - 4\n",
            "18 - 2\n"
          ]
        }
      ],
      "source": [
        "import pandas\n",
        "\n",
        "def get_length_words(file_name):\n",
        "    count_len_words = {}\n",
        "    with open(file_name, 'r') as file:\n",
        "        for word in file:\n",
        "            cleaned_word = word.strip('\\n')\n",
        "            if cleaned_word.isalpha():\n",
        "                len_word = len(cleaned_word)\n",
        "                if len_word in count_len_words:\n",
        "                    count_len_words[len_word] += 1\n",
        "                else:\n",
        "                    count_len_words[len_word] = 1\n",
        "    \n",
        "    return sorted(count_len_words.items(), key=lambda key: key[0])\n",
        "\n",
        "\n",
        "def print_info():\n",
        "    file_name = 'anna_words.txt'\n",
        "    count_len = get_length_words(file_name)\n",
        "    for word in count_len:\n",
        "        print(f\"{word[0]} - {word[1]}\")\n",
        "\n",
        "\n",
        "def save_as_excel():\n",
        "    file_name = 'anna_words.txt'\n",
        "    count_len = get_length_words(file_name)\n",
        "    excel_dict = {'len': [], 'count': []}\n",
        "    for i in count_len:\n",
        "        excel_dict['len'].append(i[0])\n",
        "        excel_dict['count'].append(i[1])\n",
        "    \n",
        "    df = pandas.DataFrame(excel_dict)\n",
        "    df.to_excel('data.xlsx')\n",
        "\n",
        "print_info()\n",
        "save_as_excel()"
      ]
    }
  ],
  "metadata": {
    "colab": {
      "collapsed_sections": [],
      "provenance": []
    },
    "kernelspec": {
      "display_name": "Python 3",
      "language": "python",
      "name": "python3"
    },
    "language_info": {
      "codemirror_mode": {
        "name": "ipython",
        "version": 3
      },
      "file_extension": ".py",
      "mimetype": "text/x-python",
      "name": "python",
      "nbconvert_exporter": "python",
      "pygments_lexer": "ipython3",
      "version": "3.10.12"
    }
  },
  "nbformat": 4,
  "nbformat_minor": 5
}
