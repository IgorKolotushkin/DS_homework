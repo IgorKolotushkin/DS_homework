{
  "cells": [
    {
      "cell_type": "markdown",
      "metadata": {
        "id": "veTO4_6tQxFR"
      },
      "source": [
        "# Циклы. Практическая работа\n",
        "\n",
        "###Цели работы\n",
        "Закрепить на практике применение циклов for, while и использование команд break, continue, pass.\n",
        "\n",
        "###Что нужно сделать\n",
        "Скачайте файл с заданием, откройте его через Jupyter Notebook и выполните задачи.\n",
        "\n",
        "###Что оценивается\n",
        "Для каждой задачи:\n",
        "- программа выполняет все требуемые действия;\n",
        "- результаты вычислений и операций корректны;\n",
        "- вывод производится в том виде, который описан в задаче;\n",
        "- переменные названы информативно.\n",
        "\n",
        "### Как отправить работу на проверку\n",
        "Выполните задачи, сохраните изменения при помощи опции Save and Checkpoint из вкладки меню File или кнопки Save and Checkpoint на панели инструментов. Отправьте через форму ниже итоговый файл Jupyter Notebook .ipynb или ссылку на него.\n",
        "\n"
      ]
    },
    {
      "cell_type": "markdown",
      "metadata": {
        "id": "r-2XwatHSvif"
      },
      "source": [
        "1. Напишите цикл, который выводит на печать все високосные годы начиная с 2020 года, но не позже 2050 года."
      ]
    },
    {
      "cell_type": "code",
      "execution_count": 1,
      "metadata": {
        "id": "Zy0UG5ZwCx8Q"
      },
      "outputs": [
        {
          "name": "stdout",
          "output_type": "stream",
          "text": [
            "2020\n",
            "2024\n",
            "2028\n",
            "2032\n",
            "2036\n",
            "2040\n",
            "2044\n",
            "2048\n"
          ]
        }
      ],
      "source": [
        "start_year = 2020\n",
        "end_year = 2050\n",
        "\n",
        "for year in range(start_year, end_year + 1):\n",
        "    if (year % 4 == 0 and year % 100 != 0) or year % 400 == 0:\n",
        "        print(year)"
      ]
    },
    {
      "cell_type": "markdown",
      "metadata": {
        "id": "grErwV6YS62m"
      },
      "source": [
        "2. Студент Джонсон поступил в университет и взял в кредит 120 тысяч долларов под 6% годовых. Все шесть лет учёбы в бакалавриате и магистратуре он не сможет выплачивать кредит, и процент будет прибавляться к основному кредиту. Напишите программу, которая посчитает, сколько студент Джонсон будет должен банку к концу своего обучения."
      ]
    },
    {
      "cell_type": "code",
      "execution_count": 2,
      "metadata": {
        "id": "vyqbfM3sVp40"
      },
      "outputs": [
        {
          "name": "stdout",
          "output_type": "stream",
          "text": [
            "Сумма долга = 170222.29\n"
          ]
        }
      ],
      "source": [
        "# Начальная сумма\n",
        "loan = 120000\n",
        "\n",
        "for _ in range(6):\n",
        "    loan += loan * 0.06\n",
        "\n",
        "print(f\"Сумма долга = {round(loan, 2)}\")\n"
      ]
    },
    {
      "cell_type": "markdown",
      "metadata": {
        "id": "-N68Ul6iXm6X"
      },
      "source": [
        "3. Вспомним задачу о [зёрнах на шахматной доске](https://ru.wikipedia.org/wiki/%D0%97%D0%B0%D0%B4%D0%B0%D1%87%D0%B0_%D0%BE_%D0%B7%D1%91%D1%80%D0%BD%D0%B0%D1%85_%D0%BD%D0%B0_%D1%88%D0%B0%D1%85%D0%BC%D0%B0%D1%82%D0%BD%D0%BE%D0%B9_%D0%B4%D0%BE%D1%81%D0%BA%D0%B5). На первую клетку кладётся одно зерно, на вторую — два зерна, на третью — четыре, затем — восемь. С каждой клеткой количество зёрен увеличивается в два раза.\n",
        "\n",
        "Напишите цикл, который выводил бы на печать порядковый номер клетки и количество зёрен на ней до тех пор, пока их количество на одной клетке не превысит 100 тысяч.\n"
      ]
    },
    {
      "cell_type": "code",
      "execution_count": 3,
      "metadata": {
        "id": "iqOEykTLXjFk"
      },
      "outputs": [
        {
          "name": "stdout",
          "output_type": "stream",
          "text": [
            "1 - 1\n",
            "2 - 2\n",
            "3 - 4\n",
            "4 - 8\n",
            "5 - 16\n",
            "6 - 32\n",
            "7 - 64\n",
            "8 - 128\n",
            "9 - 256\n",
            "10 - 512\n",
            "11 - 1024\n",
            "12 - 2048\n",
            "13 - 4096\n",
            "14 - 8192\n",
            "15 - 16384\n",
            "16 - 32768\n",
            "17 - 65536\n"
          ]
        }
      ],
      "source": [
        "seed = 1\n",
        "cell = 1\n",
        "while seed <= 100000:\n",
        "    print(f\"{cell} - {seed}\")\n",
        "    seed *= 2\n",
        "    cell += 1\n"
      ]
    },
    {
      "cell_type": "markdown",
      "metadata": {
        "id": "oSkgnq73b62i"
      },
      "source": [
        "4. Напишите программу, которая проверяла бы все числа от 0 до 30. Если число делится на два, его нужно напечатать. Но, если число делится и на четыре, его нужно пропустить."
      ]
    },
    {
      "cell_type": "code",
      "execution_count": 4,
      "metadata": {
        "id": "CYuIIxjOjwZd"
      },
      "outputs": [
        {
          "name": "stdout",
          "output_type": "stream",
          "text": [
            "2\n",
            "6\n",
            "10\n",
            "14\n",
            "18\n",
            "22\n",
            "26\n",
            "30\n"
          ]
        }
      ],
      "source": [
        "for number in range(31):\n",
        "    if number % 2 == 0 and number % 4 != 0:\n",
        "        print(number)"
      ]
    },
    {
      "cell_type": "markdown",
      "metadata": {
        "id": "VXoxvHZKjymf"
      },
      "source": [
        "5. Напишите программу, которая бесконечно запрашивает на ввод целое число и после каждого ввода печатает на экране ответ в соответствии со следующими условиями:\n",
        "  * Если введённое число делится на три, то печатается это же число.\n",
        "  * Если делится на пять, то на печать выводится его квадрат. Если же это число одновременно делится и на пять, и на три, то на экране должно появиться само число в соответствии с прошлым условием, а затем и его квадрат. То есть сначала должно отработать прошлое условие, а затем текущее. \n",
        "  * Если число делится на семь, нужно вывести на печать «дурак совсем» и прервать выполнение программы. \n",
        "  * Во всех остальных случаях программа должна снова запросить число на ввод.\n",
        "\n",
        "**Подсказка**\n",
        "\n",
        "Чтобы проверить, что программа работает верно, можно использовать следующие числа для теста: \n",
        "* 3 (в ответ печатается 3);\n",
        "* 5 (в ответ печатается 25);\n",
        "* 15 (в ответ печатается 15 и 225);\n",
        "* 1 (ничего не печатается, запрашивается следующее число на ввод);\n",
        "* 7 (в ответ печатается «дурак совсем», программа прерывается)."
      ]
    },
    {
      "cell_type": "code",
      "execution_count": 6,
      "metadata": {
        "id": "EEyux6ehlbI4"
      },
      "outputs": [
        {
          "name": "stdout",
          "output_type": "stream",
          "text": [
            "15\n",
            "225\n"
          ]
        },
        {
          "ename": "ValueError",
          "evalue": "invalid literal for int() with base 10: ''",
          "output_type": "error",
          "traceback": [
            "\u001b[0;31m---------------------------------------------------------------------------\u001b[0m",
            "\u001b[0;31mValueError\u001b[0m                                Traceback (most recent call last)",
            "\u001b[1;32m/home/igor/DS_homework/hw_4/7.4 Практическая работа.ipynb Ячейка 11\u001b[0m line \u001b[0;36m2\n\u001b[1;32m      <a href='vscode-notebook-cell:/home/igor/DS_homework/hw_4/7.4%20%D0%9F%D1%80%D0%B0%D0%BA%D1%82%D0%B8%D1%87%D0%B5%D1%81%D0%BA%D0%B0%D1%8F%20%D1%80%D0%B0%D0%B1%D0%BE%D1%82%D0%B0.ipynb#X13sZmlsZQ%3D%3D?line=0'>1</a>\u001b[0m \u001b[39mwhile\u001b[39;00m \u001b[39mTrue\u001b[39;00m:\n\u001b[0;32m----> <a href='vscode-notebook-cell:/home/igor/DS_homework/hw_4/7.4%20%D0%9F%D1%80%D0%B0%D0%BA%D1%82%D0%B8%D1%87%D0%B5%D1%81%D0%BA%D0%B0%D1%8F%20%D1%80%D0%B0%D0%B1%D0%BE%D1%82%D0%B0.ipynb#X13sZmlsZQ%3D%3D?line=1'>2</a>\u001b[0m     number \u001b[39m=\u001b[39m \u001b[39mint\u001b[39;49m(\u001b[39minput\u001b[39;49m(\u001b[39m\"\u001b[39;49m\u001b[39mВведите число: \u001b[39;49m\u001b[39m\"\u001b[39;49m))\n\u001b[1;32m      <a href='vscode-notebook-cell:/home/igor/DS_homework/hw_4/7.4%20%D0%9F%D1%80%D0%B0%D0%BA%D1%82%D0%B8%D1%87%D0%B5%D1%81%D0%BA%D0%B0%D1%8F%20%D1%80%D0%B0%D0%B1%D0%BE%D1%82%D0%B0.ipynb#X13sZmlsZQ%3D%3D?line=2'>3</a>\u001b[0m     \u001b[39mif\u001b[39;00m number \u001b[39m%\u001b[39m \u001b[39m3\u001b[39m \u001b[39m==\u001b[39m \u001b[39m0\u001b[39m:\n\u001b[1;32m      <a href='vscode-notebook-cell:/home/igor/DS_homework/hw_4/7.4%20%D0%9F%D1%80%D0%B0%D0%BA%D1%82%D0%B8%D1%87%D0%B5%D1%81%D0%BA%D0%B0%D1%8F%20%D1%80%D0%B0%D0%B1%D0%BE%D1%82%D0%B0.ipynb#X13sZmlsZQ%3D%3D?line=3'>4</a>\u001b[0m         \u001b[39mprint\u001b[39m(number)\n",
            "\u001b[0;31mValueError\u001b[0m: invalid literal for int() with base 10: ''"
          ]
        }
      ],
      "source": [
        "while True:\n",
        "    number = int(input(\"Введите число: \"))\n",
        "    if number % 3 == 0:\n",
        "        print(number)\n",
        "    if number % 5 == 0:\n",
        "        print(number ** 2)\n",
        "    if number % 7 == 0:\n",
        "        print(\"Дурак совсем\")\n",
        "        break\n",
        "    "
      ]
    }
  ],
  "metadata": {
    "colab": {
      "collapsed_sections": [],
      "provenance": []
    },
    "kernelspec": {
      "display_name": "Python 3",
      "name": "python3"
    },
    "language_info": {
      "codemirror_mode": {
        "name": "ipython",
        "version": 3
      },
      "file_extension": ".py",
      "mimetype": "text/x-python",
      "name": "python",
      "nbconvert_exporter": "python",
      "pygments_lexer": "ipython3",
      "version": "3.10.12"
    }
  },
  "nbformat": 4,
  "nbformat_minor": 0
}
